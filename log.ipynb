{
 "cells": [
  {
   "cell_type": "code",
   "execution_count": 6,
   "metadata": {
    "collapsed": true
   },
   "outputs": [],
   "source": [
    "import os\n",
    "#import ipdb\n",
    "\n",
    "import pandas as pd\n",
    "import matplotlib as mpl\n",
    "from matplotlib import lines\n",
    "from matplotlib import pyplot as plt\n",
    "import matplotlib.dates as mdates\n",
    "\n",
    "#EXP_NAME = \"tolerance/15\"\n",
    "headers = ['time', 'similarity']\n",
    "\n",
    "#Read input files from the directory and returns DataTable object in a combined list\n",
    "def read_clients(EXP_NAME):\n",
    "    #Get list of nodes(files) with results\n",
    "    INPUT_DIR = os.path.join( os.getcwd(), EXP_NAME)\n",
    "    data = pd.DataFrame()\n",
    "    dirs = [f for f in os.listdir(INPUT_DIR) if os.path.isdir(os.path.join(INPUT_DIR))]    \n",
    "    for client in dirs:\n",
    "        client_data = pd.read_csv(os.path.join(INPUT_DIR, client), sep=',')\n",
    "        client_data.columns= headers\n",
    "        client_data = client_data.set_index(pd.DatetimeIndex(client_data['time']))\n",
    "        client_data.loc[(client_data['similarity'] > 1)] = 1\n",
    "        data = data.append(client_data)\n",
    "    data = data.groupby(data.index).mean()\n",
    "    return data\n",
    "\n",
    "\n"
   ]
  },
  {
   "cell_type": "code",
   "execution_count": 1,
   "metadata": {
    "collapsed": true
   },
   "outputs": [],
   "source": [
    "def getECDF(df):\n",
    "    \"\"\"Helper function that caclulates the ECDF of a dataframe\"\"\"\n",
    "    df = df.similarity.value_counts()\n",
    "    ecdf = df.sort_index().cumsum()*1./df.sum()    \n",
    "    return ecdf\n"
   ]
  },
  {
   "cell_type": "code",
   "execution_count": 10,
   "metadata": {},
   "outputs": [
    {
     "data": {
      "image/png": "[encoded data removed]",
      "text/plain": [
       "<matplotlib.figure.Figure at 0x7fbb0738a860>"
      ]
     },
     "metadata": {},
     "output_type": "display_data"
    }
   ],
   "source": [
    "data0 = read_clients(\"faulty/0%/sim\")\n",
    "data10 = read_clients(\"faulty/10/sim\")\n",
    "data10_1 = read_clients(\"faulty/10%/sim\")\n",
    "\n",
    "data_im = read_clients(\"im/sim\")\n",
    "\n",
    "getECDF(data0).plot()\n",
    "getECDF(data10_1).plot()\n",
    "getECDF(data_im).plot()\n",
    "\n",
    "plt.show()"
   ]
  },
  {
   "cell_type": "code",
   "execution_count": null,
   "metadata": {
    "collapsed": true
   },
   "outputs": [],
   "source": []
  }
 ],
 "metadata": {
  "kernelspec": {
   "display_name": "Python 3",
   "language": "python",
   "name": "python3"
  },
  "language_info": {
   "codemirror_mode": {
    "name": "ipython",
    "version": 3
   },
   "file_extension": ".py",
   "mimetype": "text/x-python",
   "name": "python",
   "nbconvert_exporter": "python",
   "pygments_lexer": "ipython3",
   "version": "3.6.0"
  }
 },
 "nbformat": 4,
 "nbformat_minor": 2
}
